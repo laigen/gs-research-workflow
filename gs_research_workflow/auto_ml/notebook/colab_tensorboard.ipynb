{
 "nbformat": 4,
 "nbformat_minor": 0,
 "metadata": {
  "accelerator": "GPU",
  "colab": {
   "name": "31360AFA19F4AC353FD6AB5400A39110_X3mCrX2w_gWnDf_tensorboard.ipynb",
   "provenance": [],
   "private_outputs": true,
   "collapsed_sections": []
  },
  "kernelspec": {
   "name": "python3",
   "display_name": "Python 3"
  },
  "pycharm": {
   "stem_cell": {
    "cell_type": "raw",
    "source": [],
    "metadata": {
     "collapsed": false
    }
   }
  }
 },
 "cells": [
  {
   "cell_type": "code",
   "metadata": {
    "colab_type": "code",
    "id": "J8IwA-6HjjzR",
    "colab": {}
   },
   "source": [
    "# GS --mount-google-drive\n",
    "# mount google drive to '/gdrive'\n",
    "from google.colab import drive\n",
    "drive.mount('/gdrive')"
   ],
   "execution_count": 0,
   "outputs": []
  },
  {
   "cell_type": "code",
   "metadata": {
    "colab_type": "code",
    "id": "jZI1QnPlzbAA",
    "colab": {}
   },
   "source": [
    "# GS --max-run-seconds=1200\n",
    "%load_ext tensorboard\n",
    "/gdrive/My\\ Drive/GS/TensorBoard/InceptionTime/1A99296A3E21A3C80FAB92479BB3D5F7gdir $tensorboard_path"
   ],
   "execution_count": 0,
   "outputs": []
  }
 ]
}